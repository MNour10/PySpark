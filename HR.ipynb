{
 "cells": [
  {
   "cell_type": "code",
   "execution_count": 1,
   "metadata": {},
   "outputs": [],
   "source": [
    "from pyspark import SparkContext\n",
    "\n",
    "#Used for features and labels in any supervised learning\n",
    "from pyspark.mllib.regression import LabeledPoint\n",
    "\n",
    "#Used for storing a set of features in the LabeledPoint\n",
    "from pyspark.mllib.linalg import Vectors\n",
    "\n",
    "#Used to compute model performance metrics\n",
    "from pyspark.mllib.evaluation import MulticlassMetrics\n",
    "\n",
    "#Used to build the decisionTree model\n",
    "from pyspark.mllib.tree import DecisionTree"
   ]
  },
  {
   "cell_type": "code",
   "execution_count": 2,
   "metadata": {},
   "outputs": [],
   "source": [
    "sc = SparkContext.getOrCreate()"
   ]
  },
  {
   "cell_type": "code",
   "execution_count": 3,
   "metadata": {},
   "outputs": [],
   "source": [
    "def title(s):\n",
    "    print(\"---- %s -----\" %s)    \n",
    "    \n",
    "def see(s, v):\n",
    "    print(\"---- %s -----\" %s)\n",
    "    print(v)"
   ]
  },
  {
   "cell_type": "code",
   "execution_count": 4,
   "metadata": {},
   "outputs": [],
   "source": [
    "files = \"./hr.csv\"\n",
    "rawData = sc.textFile(files)\n",
    "head = rawData.first()\n",
    "header =head.split(',')\n",
    "r1 = rawData.filter(lambda l: l!=head)\n",
    "r2 = r1.map(lambda x: x.split(','))"
   ]
  },
  {
   "cell_type": "code",
   "execution_count": 5,
   "metadata": {},
   "outputs": [],
   "source": [
    "l1 = r2.map(lambda x:x[8]).distinct().collect()\n",
    "l2 = r2.map(lambda x:x[9]).distinct().collect()\n",
    "r3 = r2.collect()\n",
    "for i in range(0,len(l1)):\n",
    "    header.insert(9+i,header[8]+\"^\"+l1[i])\n",
    "for i in range(0,len(l2)):\n",
    "    header.insert(10+i+len(l1),header[9+len(l1)]+\"^\"+l2[i])\n",
    "header.pop(8)\n",
    "header.pop(18)\n",
    "for i in range(0,len(r3)):\n",
    "    for j in range(0,len(l1)):\n",
    "        if r3[i][8].split(',')[0]==l1[j]:\n",
    "            r3[i][8] = r3[i][8] + ',1'\n",
    "            #r3[i].insert(9+i,'1')\n",
    "        else:\n",
    "            r3[i][8] = r3[i][8] + ',0'\n",
    "            #r3[i].insert(9+i,'0')\n",
    "    for j in range(0,len(l2)):\n",
    "        if r3[i][9].split(',')[0]==l2[j]:\n",
    "            r3[i][9] = r3[i][9] + ',1'\n",
    "        else:\n",
    "            r3[i][9] = r3[i][9] + ',0'\n",
    "    #r3[i][8] = r3[i][8].split(',')[1:]\n",
    "    #r3[i][9] = r3[i][9].split(',')[1:]\n",
    "    for j in r3[i][8].split(',')[1:]:\n",
    "        r3[i].append(j)\n",
    "    for j in r3[i][9].split(',')[1:]:\n",
    "        r3[i].append(j)\n",
    "    r3[i].pop(9)\n",
    "    r3[i].pop(8)"
   ]
  },
  {
   "cell_type": "code",
   "execution_count": 6,
   "metadata": {},
   "outputs": [],
   "source": [
    "r8 = sc.parallelize(r3).map(lambda x:[float(i) for i in x])"
   ]
  },
  {
   "cell_type": "code",
   "execution_count": 7,
   "metadata": {},
   "outputs": [],
   "source": [
    "def preprocessing(line):\n",
    "    values = list(map(lambda x: x, line))\n",
    "    label = values.pop(6)\n",
    "    featureVector = Vectors.dense(values)\n",
    "    return LabeledPoint(label, featureVector)\n",
    "\n",
    "data = r8.map(preprocessing)"
   ]
  },
  {
   "cell_type": "code",
   "execution_count": 8,
   "metadata": {},
   "outputs": [
    {
     "data": {
      "text/plain": [
       "PythonRDD[17] at RDD at PythonRDD.scala:48"
      ]
     },
     "execution_count": 8,
     "metadata": {},
     "output_type": "execute_result"
    }
   ],
   "source": [
    "(trainData, cvData, testData) = data.randomSplit(weights=[0.8, 0.1, 0.1])\n",
    "trainData.cache()\n",
    "cvData.cache()\n",
    "testData.cache()"
   ]
  },
  {
   "cell_type": "code",
   "execution_count": 9,
   "metadata": {},
   "outputs": [],
   "source": [
    "def getMetrics(model, data):\n",
    "    labels = data.map(lambda d: d.label)\n",
    "    features = data.map(lambda d: d.features)\n",
    "    predictions = model.predict(features)\n",
    "    predictionsAndLabels = predictions.zip(labels)\n",
    "    return MulticlassMetrics(predictionsAndLabels)"
   ]
  },
  {
   "cell_type": "code",
   "execution_count": 10,
   "metadata": {},
   "outputs": [],
   "source": [
    "def evaluate(trainData, cvData):\n",
    "    evaluations = []\n",
    "    for impurity in [\"gini\", \"entropy\"]:\n",
    "        for depth in range(10, 22):\n",
    "            for bins in [190,210,230,250,270,290,300]:\n",
    "                model = DecisionTree.trainClassifier(trainData,numClasses=2, categoricalFeaturesInfo={}, impurity=impurity, maxDepth=depth, maxBins=bins)\n",
    "                accuracy = getMetrics(model, cvData).accuracy\n",
    "                evaluations.append(((impurity, depth, bins), accuracy))\n",
    "\n",
    "    return evaluations\n",
    "evaluations = evaluate(trainData, cvData)"
   ]
  },
  {
   "cell_type": "code",
   "execution_count": 11,
   "metadata": {},
   "outputs": [
    {
     "name": "stdout",
     "output_type": "stream",
     "text": [
      "---- Sorted Evaluations -----\n",
      "(('gini', 14, 210), 0.9853917662682603)\n",
      "(('gini', 14, 190), 0.9847277556440903)\n",
      "(('gini', 14, 230), 0.9847277556440903)\n",
      "(('gini', 14, 250), 0.9847277556440903)\n",
      "(('gini', 14, 270), 0.9847277556440903)\n",
      "(('gini', 14, 290), 0.9847277556440903)\n",
      "(('gini', 14, 300), 0.9847277556440903)\n",
      "(('gini', 15, 210), 0.9847277556440903)\n",
      "(('gini', 15, 190), 0.9840637450199203)\n",
      "(('gini', 15, 230), 0.9840637450199203)\n",
      "(('gini', 15, 250), 0.9840637450199203)\n",
      "(('gini', 15, 270), 0.9840637450199203)\n",
      "(('gini', 15, 290), 0.9840637450199203)\n",
      "(('gini', 15, 300), 0.9840637450199203)\n",
      "(('gini', 16, 210), 0.9840637450199203)\n",
      "(('gini', 18, 210), 0.9840637450199203)\n",
      "(('gini', 19, 210), 0.9840637450199203)\n",
      "(('gini', 20, 210), 0.9840637450199203)\n",
      "(('gini', 21, 210), 0.9840637450199203)\n",
      "(('entropy', 15, 210), 0.9840637450199203)\n",
      "(('gini', 10, 210), 0.9833997343957503)\n",
      "(('gini', 16, 190), 0.9833997343957503)\n",
      "(('gini', 16, 230), 0.9833997343957503)\n",
      "(('gini', 16, 250), 0.9833997343957503)\n",
      "(('gini', 16, 270), 0.9833997343957503)\n",
      "(('gini', 16, 290), 0.9833997343957503)\n",
      "(('gini', 16, 300), 0.9833997343957503)\n",
      "(('gini', 17, 210), 0.9833997343957503)\n",
      "(('gini', 18, 190), 0.9833997343957503)\n",
      "(('gini', 18, 230), 0.9833997343957503)\n",
      "(('gini', 18, 250), 0.9833997343957503)\n",
      "(('gini', 18, 270), 0.9833997343957503)\n",
      "(('gini', 18, 290), 0.9833997343957503)\n",
      "(('gini', 18, 300), 0.9833997343957503)\n",
      "(('gini', 19, 190), 0.9833997343957503)\n",
      "(('gini', 19, 230), 0.9833997343957503)\n",
      "(('gini', 19, 250), 0.9833997343957503)\n",
      "(('gini', 19, 270), 0.9833997343957503)\n",
      "(('gini', 19, 290), 0.9833997343957503)\n",
      "(('gini', 19, 300), 0.9833997343957503)\n",
      "(('gini', 20, 190), 0.9833997343957503)\n",
      "(('gini', 20, 230), 0.9833997343957503)\n",
      "(('gini', 20, 250), 0.9833997343957503)\n",
      "(('gini', 20, 270), 0.9833997343957503)\n",
      "(('gini', 20, 290), 0.9833997343957503)\n",
      "(('gini', 20, 300), 0.9833997343957503)\n",
      "(('gini', 21, 190), 0.9833997343957503)\n",
      "(('gini', 21, 230), 0.9833997343957503)\n",
      "(('gini', 21, 250), 0.9833997343957503)\n",
      "(('gini', 21, 270), 0.9833997343957503)\n",
      "(('gini', 21, 290), 0.9833997343957503)\n",
      "(('gini', 21, 300), 0.9833997343957503)\n",
      "(('entropy', 13, 210), 0.9833997343957503)\n",
      "(('entropy', 15, 190), 0.9833997343957503)\n",
      "(('entropy', 15, 230), 0.9833997343957503)\n",
      "(('entropy', 15, 250), 0.9833997343957503)\n",
      "(('entropy', 15, 270), 0.9833997343957503)\n",
      "(('entropy', 15, 290), 0.9833997343957503)\n",
      "(('entropy', 15, 300), 0.9833997343957503)\n",
      "(('gini', 10, 190), 0.9827357237715804)\n",
      "(('gini', 10, 230), 0.9827357237715804)\n",
      "(('gini', 10, 250), 0.9827357237715804)\n",
      "(('gini', 10, 270), 0.9827357237715804)\n",
      "(('gini', 10, 290), 0.9827357237715804)\n",
      "(('gini', 10, 300), 0.9827357237715804)\n",
      "(('gini', 17, 190), 0.9827357237715804)\n",
      "(('gini', 17, 230), 0.9827357237715804)\n",
      "(('gini', 17, 250), 0.9827357237715804)\n",
      "(('gini', 17, 270), 0.9827357237715804)\n",
      "(('gini', 17, 290), 0.9827357237715804)\n",
      "(('gini', 17, 300), 0.9827357237715804)\n",
      "(('entropy', 13, 190), 0.9827357237715804)\n",
      "(('entropy', 13, 230), 0.9827357237715804)\n",
      "(('entropy', 13, 250), 0.9827357237715804)\n",
      "(('entropy', 13, 270), 0.9827357237715804)\n",
      "(('entropy', 13, 290), 0.9827357237715804)\n",
      "(('entropy', 13, 300), 0.9827357237715804)\n",
      "(('gini', 11, 210), 0.9820717131474104)\n",
      "(('entropy', 11, 210), 0.9820717131474104)\n",
      "(('entropy', 12, 210), 0.9820717131474104)\n",
      "(('entropy', 14, 210), 0.9820717131474104)\n",
      "(('entropy', 17, 210), 0.9820717131474104)\n",
      "(('gini', 11, 190), 0.9814077025232404)\n",
      "(('gini', 11, 230), 0.9814077025232404)\n",
      "(('gini', 11, 250), 0.9814077025232404)\n",
      "(('gini', 11, 270), 0.9814077025232404)\n",
      "(('gini', 11, 290), 0.9814077025232404)\n",
      "(('gini', 11, 300), 0.9814077025232404)\n",
      "(('gini', 13, 210), 0.9814077025232404)\n",
      "(('entropy', 11, 190), 0.9814077025232404)\n",
      "(('entropy', 11, 230), 0.9814077025232404)\n",
      "(('entropy', 11, 250), 0.9814077025232404)\n",
      "(('entropy', 11, 270), 0.9814077025232404)\n",
      "(('entropy', 11, 290), 0.9814077025232404)\n",
      "(('entropy', 11, 300), 0.9814077025232404)\n",
      "(('entropy', 12, 190), 0.9814077025232404)\n",
      "(('entropy', 12, 230), 0.9814077025232404)\n",
      "(('entropy', 12, 250), 0.9814077025232404)\n",
      "(('entropy', 12, 270), 0.9814077025232404)\n",
      "(('entropy', 12, 290), 0.9814077025232404)\n",
      "(('entropy', 12, 300), 0.9814077025232404)\n",
      "(('entropy', 14, 190), 0.9814077025232404)\n",
      "(('entropy', 14, 230), 0.9814077025232404)\n",
      "(('entropy', 14, 250), 0.9814077025232404)\n",
      "(('entropy', 14, 270), 0.9814077025232404)\n",
      "(('entropy', 14, 290), 0.9814077025232404)\n",
      "(('entropy', 14, 300), 0.9814077025232404)\n",
      "(('entropy', 17, 190), 0.9814077025232404)\n",
      "(('entropy', 17, 230), 0.9814077025232404)\n",
      "(('entropy', 17, 250), 0.9814077025232404)\n",
      "(('entropy', 17, 270), 0.9814077025232404)\n",
      "(('entropy', 17, 290), 0.9814077025232404)\n",
      "(('entropy', 17, 300), 0.9814077025232404)\n",
      "(('gini', 12, 210), 0.9807436918990704)\n",
      "(('gini', 13, 190), 0.9807436918990704)\n",
      "(('gini', 13, 230), 0.9807436918990704)\n",
      "(('gini', 13, 250), 0.9807436918990704)\n",
      "(('gini', 13, 270), 0.9807436918990704)\n",
      "(('gini', 13, 290), 0.9807436918990704)\n",
      "(('gini', 13, 300), 0.9807436918990704)\n",
      "(('entropy', 10, 210), 0.9807436918990704)\n",
      "(('entropy', 18, 210), 0.9807436918990704)\n",
      "(('entropy', 19, 210), 0.9807436918990704)\n",
      "(('entropy', 20, 210), 0.9807436918990704)\n",
      "(('entropy', 21, 210), 0.9807436918990704)\n",
      "(('gini', 12, 190), 0.9800796812749004)\n",
      "(('gini', 12, 230), 0.9800796812749004)\n",
      "(('gini', 12, 250), 0.9800796812749004)\n",
      "(('gini', 12, 270), 0.9800796812749004)\n",
      "(('gini', 12, 290), 0.9800796812749004)\n",
      "(('gini', 12, 300), 0.9800796812749004)\n",
      "(('entropy', 10, 190), 0.9800796812749004)\n",
      "(('entropy', 10, 230), 0.9800796812749004)\n",
      "(('entropy', 10, 250), 0.9800796812749004)\n",
      "(('entropy', 10, 270), 0.9800796812749004)\n",
      "(('entropy', 10, 290), 0.9800796812749004)\n",
      "(('entropy', 10, 300), 0.9800796812749004)\n",
      "(('entropy', 16, 210), 0.9800796812749004)\n",
      "(('entropy', 18, 190), 0.9800796812749004)\n",
      "(('entropy', 18, 230), 0.9800796812749004)\n",
      "(('entropy', 18, 250), 0.9800796812749004)\n",
      "(('entropy', 18, 270), 0.9800796812749004)\n",
      "(('entropy', 18, 290), 0.9800796812749004)\n",
      "(('entropy', 18, 300), 0.9800796812749004)\n",
      "(('entropy', 19, 190), 0.9800796812749004)\n",
      "(('entropy', 19, 230), 0.9800796812749004)\n",
      "(('entropy', 19, 250), 0.9800796812749004)\n",
      "(('entropy', 19, 270), 0.9800796812749004)\n",
      "(('entropy', 19, 290), 0.9800796812749004)\n",
      "(('entropy', 19, 300), 0.9800796812749004)\n",
      "(('entropy', 20, 190), 0.9800796812749004)\n",
      "(('entropy', 20, 230), 0.9800796812749004)\n",
      "(('entropy', 20, 250), 0.9800796812749004)\n",
      "(('entropy', 20, 270), 0.9800796812749004)\n",
      "(('entropy', 20, 290), 0.9800796812749004)\n",
      "(('entropy', 20, 300), 0.9800796812749004)\n",
      "(('entropy', 21, 190), 0.9800796812749004)\n",
      "(('entropy', 21, 230), 0.9800796812749004)\n",
      "(('entropy', 21, 250), 0.9800796812749004)\n",
      "(('entropy', 21, 270), 0.9800796812749004)\n",
      "(('entropy', 21, 290), 0.9800796812749004)\n",
      "(('entropy', 21, 300), 0.9800796812749004)\n",
      "(('entropy', 16, 190), 0.9794156706507304)\n",
      "(('entropy', 16, 230), 0.9794156706507304)\n",
      "(('entropy', 16, 250), 0.9794156706507304)\n",
      "(('entropy', 16, 270), 0.9794156706507304)\n",
      "(('entropy', 16, 290), 0.9794156706507304)\n",
      "(('entropy', 16, 300), 0.9794156706507304)\n"
     ]
    }
   ],
   "source": [
    "sortedEvals = sorted(evaluations, key=lambda a:a[1], reverse=True)\n",
    "title(\"Sorted Evaluations\")\n",
    "for e in sortedEvals:\n",
    "    print(e)"
   ]
  },
  {
   "cell_type": "code",
   "execution_count": 12,
   "metadata": {},
   "outputs": [
    {
     "name": "stdout",
     "output_type": "stream",
     "text": [
      "---- bestParams -----\n",
      "('gini', 14, 210)\n"
     ]
    }
   ],
   "source": [
    "bestParams = sortedEvals[0][0]\n",
    "see(\"bestParams\", bestParams)"
   ]
  },
  {
   "cell_type": "code",
   "execution_count": 13,
   "metadata": {},
   "outputs": [
    {
     "name": "stdout",
     "output_type": "stream",
     "text": [
      "CPU times: user 30 ms, sys: 0 ns, total: 30 ms\n",
      "Wall time: 1.44 s\n",
      "---- testData accuracy -----\n",
      "0.9821314613911933\n",
      "---- testData+cvData accuracy -----\n",
      "0.9886104783599089\n"
     ]
    }
   ],
   "source": [
    "(i, d, b) = bestParams\n",
    "%time model = DecisionTree.trainClassifier(trainData.union(cvData),numClasses=2,categoricalFeaturesInfo={},impurity=i,maxDepth=d,maxBins=b)\n",
    "see(\"testData accuracy\",getMetrics(model, testData).accuracy)\n",
    "see(\"testData+cvData accuracy\", getMetrics(model, testData.union(cvData)).accuracy)"
   ]
  },
  {
   "cell_type": "code",
   "execution_count": 14,
   "metadata": {},
   "outputs": [
    {
     "data": {
      "text/plain": [
       "PythonRDD[17] at RDD at PythonRDD.scala:48"
      ]
     },
     "execution_count": 14,
     "metadata": {},
     "output_type": "execute_result"
    }
   ],
   "source": [
    "trainData.unpersist()\n",
    "cvData.unpersist()\n",
    "testData.unpersist()"
   ]
  }
 ],
 "metadata": {
  "kernelspec": {
   "display_name": "Python 3",
   "language": "python",
   "name": "python3"
  },
  "language_info": {
   "codemirror_mode": {
    "name": "ipython",
    "version": 3
   },
   "file_extension": ".py",
   "mimetype": "text/x-python",
   "name": "python",
   "nbconvert_exporter": "python",
   "pygments_lexer": "ipython3",
   "version": "3.6.3"
  }
 },
 "nbformat": 4,
 "nbformat_minor": 2
}
